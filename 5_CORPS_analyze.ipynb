{
 "cells": [
  {
   "cell_type": "code",
   "execution_count": 2,
   "metadata": {},
   "outputs": [],
   "source": [
    "import pandas as pd  # таблицы\n",
    "\n",
    "dir = \"D:\\HSE\\Pump_Dump\\\\\"  # папка проекта\n",
    "\n",
    "# фрейм ЦБ ММВБ\n",
    "shares_pd = pd.read_csv(dir + \"market\\\\moex_cb.csv\", sep=\",\", encoding=\"utf-8\")\n",
    "shares_pd = shares_pd[(shares_pd[\"SUPERTYPE\"] == \"Акции\")]\n",
    "shares_pd.dropna(subset=\"INN\", axis=0, inplace=True)\n",
    "# удаляем строки без тикеров\n",
    "shares_pd.dropna(subset=\"TRADE_CODE\", axis=0, inplace=True)\n",
    "# Тикеры к нижнему регистру\n",
    "shares_pd[\"TRADE_CODE\"] = shares_pd[\"TRADE_CODE\"].str.lower()\n",
    "shares_list = list(\n",
    "    shares_pd[shares_pd[\"LIST_SECTION\"] == \"Третий уровень\"][\"TRADE_CODE\"]\n",
    ")"
   ]
  },
  {
   "cell_type": "code",
   "execution_count": 66,
   "metadata": {},
   "outputs": [],
   "source": [
    "# корпус конкретного канала. Параметр - наименование канала\n",
    "def channel_stat(channel):\n",
    "    channel_path = dir + \"TG\\\\\" + channel + \"_post.csv\"\n",
    "    # загрузка файла\n",
    "    df = pd.read_csv(\n",
    "        channel_path,\n",
    "        encoding=\"utf-8\",\n",
    "        sep=\"|\",\n",
    "        keep_default_na=False,\n",
    "    )\n",
    "    len_all = len(df)\n",
    "    # преобразуем поле с датой новости в тип ДАТА-ВРЕМЯ\n",
    "    df[\"NEWS_DATE\"] = pd.to_datetime(df[\"NEWS_DATE\"], dayfirst=False, errors=\"ignore\")\n",
    "    # интервал дат\n",
    "    # крайние N дней\n",
    "    days_count = 180\n",
    "    to_date = pd.to_datetime(\"today\").date()\n",
    "    from_date = to_date - pd.Timedelta(days=days_count)\n",
    "    from_date = from_date.strftime(\"%Y-%m-%d\")\n",
    "    to_date = to_date.strftime(\"%Y-%m-%d\")\n",
    "\n",
    "    df = df[(df[\"NEWS_DATE\"] < to_date) & (df[\"NEWS_DATE\"] >= from_date)]\n",
    "    len_date = len(df)\n",
    "    # только единичные тикеры\n",
    "    df = df[(df[\"TICKERS\"].str.count(\",\") < 1) & (df[\"TICKERS\"] != \"\")]\n",
    "    len_tic = len(df)\n",
    "    # только тикеры из 3-го эшелона\n",
    "    df = df[df[\"TICKERS\"].isin(shares_list)]\n",
    "    len_tic_lev = len(df)\n",
    "    # только тикеры, которые встречаются больше N раз\n",
    "    df = df.groupby(\"TICKERS\").filter(lambda x: len(x) > 3)\n",
    "    len_tic_com = len(df)\n",
    "    # print(channel, len_all, len_date, len_tic, len_tic_lev, len_tic_com)  # воронка\n",
    "    data = [\n",
    "        {\n",
    "            \"Канал\": channel,\n",
    "            \"Всего записей\": len_all,\n",
    "            \"В интервале дат\": len_date,\n",
    "            \"С одним тикером\": len_tic,\n",
    "            \"Из 3-го эшелона\": len_tic_lev,\n",
    "            \"Больше N раз\": len_tic_com,\n",
    "        }\n",
    "    ]\n",
    "    i_df = pd.DataFrame.from_dict(data)\n",
    "    return df, i_df"
   ]
  },
  {
   "cell_type": "code",
   "execution_count": 67,
   "metadata": {},
   "outputs": [],
   "source": [
    "channel_path = dir + \"TG\\\\\" + \"!channels\" + \".csv\"\n",
    "channels_df = pd.read_csv(\n",
    "    channel_path,\n",
    "    encoding=\"utf-8\",\n",
    "    sep=\"|\",\n",
    "    keep_default_na=False,\n",
    ")\n",
    "big_df = pd.DataFrame()\n",
    "funnel = pd.DataFrame()\n",
    "for channel in channels_df[\"CHANNEL\"].values:\n",
    "    # обрабатываем канал и добавляем его в статистический фрейм\n",
    "    # посты\n",
    "    big_df = pd.concat([big_df, channel_stat(channel)[0]], ignore_index=False)\n",
    "    # воронка\n",
    "    funnel = pd.concat([funnel, channel_stat(channel)[1]], ignore_index=True)"
   ]
  },
  {
   "cell_type": "code",
   "execution_count": 71,
   "metadata": {},
   "outputs": [],
   "source": [
    "big_df.sort_values(by=[\"TICKERS\", \"NEWS_DATE\"], ascending=False)[\n",
    "    [\"CHANNEL\", \"TICKERS\", \"NEWS_DATE\", \"NEWS_TIME\", \"NEWS_TEXT\"]\n",
    "].to_html(dir + \"Answers\\\\\" + \"3_Tickers_News.html\")"
   ]
  },
  {
   "cell_type": "code",
   "execution_count": 72,
   "metadata": {},
   "outputs": [],
   "source": [
    "big_df.groupby([\"TICKERS\", \"CHANNEL\", \"NEWS_WEEK\"]).count()[[\"POST\"]].to_html(dir+\"Answers\\\\\"+\"2_Tickers_Channels.html\")"
   ]
  },
  {
   "cell_type": "code",
   "execution_count": 74,
   "metadata": {},
   "outputs": [],
   "source": [
    "funnel.sort_values(by=[\"Из 3-го эшелона\"], ascending=False).to_html(dir+\"Answers\\\\\"+\"1_Tickers_Stat.html\")"
   ]
  }
 ],
 "metadata": {
  "kernelspec": {
   "display_name": "Python 3",
   "language": "python",
   "name": "python3"
  },
  "language_info": {
   "codemirror_mode": {
    "name": "ipython",
    "version": 3
   },
   "file_extension": ".py",
   "mimetype": "text/x-python",
   "name": "python",
   "nbconvert_exporter": "python",
   "pygments_lexer": "ipython3",
   "version": "3.11.5"
  }
 },
 "nbformat": 4,
 "nbformat_minor": 2
}
